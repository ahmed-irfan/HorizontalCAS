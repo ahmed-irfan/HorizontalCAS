{
 "cells": [
  {
   "cell_type": "code",
   "execution_count": null,
   "metadata": {},
   "outputs": [],
   "source": [
    "using Revise\n",
    "include(\"HCAS_Reachability.jl\");"
   ]
  },
  {
   "cell_type": "markdown",
   "metadata": {},
   "source": [
    "## Setup\n",
    "Generate memory-mapped files representing\n",
    "1. Approximation of neural network policy (what advisories are given in each cell)\n",
    "2. Cell dynamics (which cells are reachable from a given cell given an advisory)"
   ]
  },
  {
   "cell_type": "code",
   "execution_count": null,
   "metadata": {},
   "outputs": [],
   "source": [
    "# There are two methods to approximate the neural network policy:\n",
    "\n",
    "# This method evaluates a point within each cell to determine one action given within each cell\n",
    "# This is not an over-approximation, but is faster than ReluVal and useful for debugging\n",
    "writeNetworkActionsMmap(folder=\"NetworkApprox\",nnetFolder=\"../networks\",ver=6,hu=25,epochs=3000,useReluVal=false);\n",
    "\n",
    "# This method reads in the output of running the runReluVal.sh script, which runs ReluVal to compute all advisories given\n",
    "# within each cell.\n",
    "# This is an over-approximation of the neural network policy and can be run after running the runReluVal.sh script.\n",
    "writeNetworkActionsMmap(folder=\"NetworkApprox\",reluvalFolder=\"../ReluVal/Results\",ver=6,hu=25,epochs=3000,useReluVal=true);"
   ]
  },
  {
   "cell_type": "code",
   "execution_count": null,
   "metadata": {},
   "outputs": [],
   "source": [
    "# Takes a little while to run, but only needs to be run once for a given delta value, assuming\n",
    "# speed is constant\n",
    "delta = 0.0\n",
    "writeReachDynamicsMmap(folder=\"ReachDynamics\",ras=ACTIONS,ver=1,delta=delta,v0=200.0,v1=180.0);"
   ]
  },
  {
   "cell_type": "markdown",
   "metadata": {},
   "source": [
    "## Run Experiments"
   ]
  },
  {
   "cell_type": "code",
   "execution_count": null,
   "metadata": {},
   "outputs": [],
   "source": [
    "# Key Parameters\n",
    "delta = 0.0   # How much the turn rate bounds on ownship and intruder are relaxed\n",
    "pd=0          # Pilot delay\n",
    "maxTime = 80  # Initial time (tau) value of reachability (tau counts down)\n",
    "minTime = -200 # Minimum time value (\n",
    "               #     Reachability will stop early for convergence or reaching an NMAC)\n",
    "               #     When time is negative, tau is 0\n",
    "sets=Dict();   # Dictionary for storing our reachable sets"
   ]
  },
  {
   "cell_type": "code",
   "execution_count": null,
   "metadata": {},
   "outputs": [],
   "source": [
    "# Read the memory-mapped files, which should have already been generated, so this will be fast\n",
    "# Memory mapping is used because the arrays can be very large\n",
    "# This works best if using a fast solid state drive\n",
    "netActions = readNetworkActionsMmap(folder=\"NetworkApprox\",ver=6,token=\"samp\"); #token=\"reluVal\"\n",
    "reachDynamics = readReachDynamicsMmap(folder=\"ReachDynamics\",ver=1,delta=delta,v0=200.0,v1=180.0);"
   ]
  },
  {
   "cell_type": "code",
   "execution_count": null,
   "metadata": {},
   "outputs": [],
   "source": [
    "# Compute the initial reachable set\n",
    "# There are other ways to initialize the reachable set\n",
    "# This method just starts with a single cell\n",
    "# getInitialSet() adds all cells to the set\n",
    "sets[maxTime] = getInitialSet_point(pd,x=15000.0,y=0,psi=-pi)\n",
    "\n",
    "# Define cells that can always be reached at the next time step\n",
    "# For example, an intruder can always appear at the border of the sensing region\n",
    "alwaysTrueRegions = [((k==1) || (j==1) || (k==NUMX) || (j==NUMY)) for i=1:NUMP, j=1:NUMY, k=1:NUMX][:];\n",
    "\n",
    "# We can ignore these regions if we want\n",
    "alwaysTrueRegions = nothing\n",
    "\n",
    "# Define the cells that are unsafe (NMAC)\n",
    "# This might take a few seconds\n",
    "nmacCells = getNmacCells();"
   ]
  },
  {
   "cell_type": "code",
   "execution_count": null,
   "metadata": {
    "scrolled": false
   },
   "outputs": [],
   "source": [
    "# Compute reachable sets iteratively. \n",
    "# Stop if convergence, an NMAC, or minTime is reached.\n",
    "for t = 0-1:-1:minTime\n",
    "    # Compute next reachable set\n",
    "    @time sets[t] = getNextSetMmap(sets[t+1],netActions,reachDynamics,t,alwaysTrueRegions=alwaysTrueRegions)\n",
    "    if mod(t,10)==0\n",
    "        @printf(\"\\nt = %d\\n\",t)\n",
    "    end\n",
    "    \n",
    "    # Unsafe NMAC defined as reaching an NMAC once tau reaches 0 (t<=0)\n",
    "    if (t<=0) && (isNmac(sets,t,nmacCells))\n",
    "        print(\"We reached an NMAC\")\n",
    "        break\n",
    "    end\n",
    "    \n",
    "    # Check if the previous reachable set is the same as the current reachable set\n",
    "    # If so, reachability has converged to a steady state solution\n",
    "    if isConverged(sets,t,verbose=true)\n",
    "        print(\"Reached state and no NMACS!\")\n",
    "        break\n",
    "    end\n",
    "end"
   ]
  },
  {
   "cell_type": "markdown",
   "metadata": {},
   "source": [
    "## Plot Results"
   ]
  },
  {
   "cell_type": "code",
   "execution_count": null,
   "metadata": {},
   "outputs": [],
   "source": [
    "# Plot the reachable set\n",
    "xmin = -10; xmax = 40; ymin = -25; ymax = 25;\n",
    "t = 0\n",
    "plotReachable(sets,[xmin,xmax,ymin,ymax],t)"
   ]
  },
  {
   "cell_type": "code",
   "execution_count": null,
   "metadata": {},
   "outputs": [],
   "source": [
    "# Plot an animation of the reachable set changing over time\n",
    "xmin = -10; xmax = 40; ymin = -25; ymax = 25;\n",
    "initialTime = 60\n",
    "finalTime = 50\n",
    "gifName = \"TEMP\"\n",
    "animateReach(sets,[xmin,xmax,ymin,ymax],initialTime,finalTime,gifName)"
   ]
  },
  {
   "cell_type": "code",
   "execution_count": null,
   "metadata": {},
   "outputs": [],
   "source": []
  }
 ],
 "metadata": {
  "@webio": {
   "lastCommId": null,
   "lastKernelId": null
  },
  "kernelspec": {
   "display_name": "Julia 1.1.0",
   "language": "julia",
   "name": "julia-1.1"
  },
  "language_info": {
   "file_extension": ".jl",
   "mimetype": "application/julia",
   "name": "julia",
   "version": "1.1.0"
  }
 },
 "nbformat": 4,
 "nbformat_minor": 2
}
